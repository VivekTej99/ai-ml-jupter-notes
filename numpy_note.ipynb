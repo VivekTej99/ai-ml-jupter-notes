{
 "cells": [
  {
   "cell_type": "code",
   "execution_count": 3,
   "id": "db1541f9",
   "metadata": {},
   "outputs": [],
   "source": [
    "import numpy as np\n",
    "import time"
   ]
  },
  {
   "cell_type": "code",
   "execution_count": 4,
   "id": "2f11d747",
   "metadata": {},
   "outputs": [],
   "source": [
    "x = np.random.random(10000000)"
   ]
  },
  {
   "cell_type": "code",
   "execution_count": 5,
   "id": "549999e6",
   "metadata": {},
   "outputs": [
    {
     "data": {
      "text/plain": [
       "array([0.22510084, 0.17855663, 0.84232857, ..., 0.8424843 , 0.98449744,\n",
       "       0.35817757])"
      ]
     },
     "execution_count": 5,
     "metadata": {},
     "output_type": "execute_result"
    }
   ],
   "source": [
    "x"
   ]
  },
  {
   "cell_type": "code",
   "execution_count": 6,
   "id": "33dc321f",
   "metadata": {},
   "outputs": [
    {
     "data": {
      "text/plain": [
       "10000000"
      ]
     },
     "execution_count": 6,
     "metadata": {},
     "output_type": "execute_result"
    }
   ],
   "source": [
    "len(x)"
   ]
  },
  {
   "cell_type": "markdown",
   "id": "1963904f",
   "metadata": {},
   "source": [
    "## Time the numpy calculations"
   ]
  },
  {
   "cell_type": "markdown",
   "id": "fb8ebfee",
   "metadata": {},
   "source": [
    "## VS normal python calculations"
   ]
  },
  {
   "cell_type": "code",
   "execution_count": 7,
   "id": "d0581c77",
   "metadata": {},
   "outputs": [
    {
     "name": "stdout",
     "output_type": "stream",
     "text": [
      "0.5000703846659768 0.00555872917175293\n"
     ]
    }
   ],
   "source": [
    "start = time.time()\n",
    "ans = np.mean(x)\n",
    "print(ans, time.time()-start)"
   ]
  },
  {
   "cell_type": "code",
   "execution_count": 8,
   "id": "1ea01687",
   "metadata": {},
   "outputs": [
    {
     "name": "stdout",
     "output_type": "stream",
     "text": [
      "0.5000703846660486 0.3620929718017578\n"
     ]
    }
   ],
   "source": [
    "start = time.time()\n",
    "ans = sum(x)/len(x)\n",
    "print(ans, time.time()-start)"
   ]
  },
  {
   "cell_type": "markdown",
   "id": "2fde8ed6",
   "metadata": {},
   "source": [
    "### Creating and saving nd arrays"
   ]
  },
  {
   "cell_type": "code",
   "execution_count": 10,
   "id": "ab20c039",
   "metadata": {},
   "outputs": [],
   "source": [
    "x = np.array([1.0,2,44.5], dtype= np.int64)"
   ]
  },
  {
   "cell_type": "code",
   "execution_count": 11,
   "id": "aaaf368a",
   "metadata": {},
   "outputs": [
    {
     "name": "stdout",
     "output_type": "stream",
     "text": [
      "[ 1  2 44]\n"
     ]
    }
   ],
   "source": [
    "print(x)"
   ]
  },
  {
   "cell_type": "code",
   "execution_count": 12,
   "id": "6b9cc594",
   "metadata": {},
   "outputs": [
    {
     "data": {
      "text/plain": [
       "array([ 1,  2, 44])"
      ]
     },
     "execution_count": 12,
     "metadata": {},
     "output_type": "execute_result"
    }
   ],
   "source": [
    "x"
   ]
  },
  {
   "cell_type": "code",
   "execution_count": 13,
   "id": "62870145",
   "metadata": {},
   "outputs": [],
   "source": [
    "# Saving the array\n",
    "np.save('sample_np_array', x)"
   ]
  },
  {
   "cell_type": "code",
   "execution_count": 14,
   "id": "881efab2",
   "metadata": {},
   "outputs": [],
   "source": [
    "# Loading the array\n",
    "y = np.load('sample_np_array.npy')"
   ]
  },
  {
   "cell_type": "code",
   "execution_count": 15,
   "id": "33781792",
   "metadata": {},
   "outputs": [
    {
     "name": "stdout",
     "output_type": "stream",
     "text": [
      "[ 1  2 44]\n"
     ]
    }
   ],
   "source": [
    "print(y)"
   ]
  },
  {
   "cell_type": "code",
   "execution_count": null,
   "id": "3c896254",
   "metadata": {},
   "outputs": [],
   "source": []
  }
 ],
 "metadata": {
  "kernelspec": {
   "display_name": "Python [conda env:root] *",
   "language": "python",
   "name": "conda-root-py"
  },
  "language_info": {
   "codemirror_mode": {
    "name": "ipython",
    "version": 3
   },
   "file_extension": ".py",
   "mimetype": "text/x-python",
   "name": "python",
   "nbconvert_exporter": "python",
   "pygments_lexer": "ipython3",
   "version": "3.9.12"
  }
 },
 "nbformat": 4,
 "nbformat_minor": 5
}
